{
 "cells": [
  {
   "cell_type": "markdown",
   "metadata": {},
   "source": [
    "# COGS 118A - Project Checkpoint"
   ]
  },
  {
   "attachments": {},
   "cell_type": "markdown",
   "metadata": {},
   "source": [
    "# Names\n",
    "\n",
    "- Lucas Giumarra\n",
    "- Sebastian Olivas Beltran\n",
    "- Yu-Hsuan Chi\n",
    "- Tom Hocquet"
   ]
  },
  {
   "attachments": {},
   "cell_type": "markdown",
   "metadata": {},
   "source": [
    "# Abstract \n",
    "This project aims to develop a machine-learning model that can accurately classify grape varieties based on their yield as high, medium, or low. The data used in the project represents grape yield data, which is measured in boxes per acre and includes a variety of features such as climate conditions, the color of the grape, and the age of the vine. The model will be trained on a subset of this data, with the aim of learning to identify patterns in the data that are associated with different yield levels. Once the model is trained, it will predict the yield level of new, unseen data.\n",
    "Ultimately, the goal is to create a reliable and accurate classification model that can assist grape growers in making informed decisions about their vineyard management practices.\n",
    "\n",
    "(Feedback Response): \n",
    "Add which machine learning model you plan to use, the train/test split, any cross-validation, hyper-param tuning, as well as metrics you plan to use in 1-2 lines within the abstract as well. \n",
    "    We plan to make our train/test split to be 80% training and 20% testing. We will use cross validation with a fold number between 5 and 10 and will tune other hyper-parameters including the learning rate, the number of branches in the tree, the size of specific subtrees, and plenty more. To tackle our problem, our main metric will be a confusion matrix that will ultimately compute an F1 score using accuracy, precision, and recall values. This will lead us to validate the effectiveness of our model/benchmark model.\n"
   ]
  },
  {
   "attachments": {},
   "cell_type": "markdown",
   "metadata": {},
   "source": [
    "# Background\n",
    "\n",
    "Our research area revolves around the world of viticulture, particularly grape production in vineyards. With a growing demand for high-quality grapes and wineries, along with their economic importance, the efficiency of wine and vineyard operations relies heavily on the models that help predict yield production in certain regions around the world[<sup>1</sup>](chrome-extension://efaidnbmnnnibpcajpcglclefindmkaj/https://www.researchgate.net/profile/Manisha-Sirsat/publication/334387643_Machine_Learning_predictive_model_of_grapevine_yield_based_on_agroclimatic_patterns/links/5d3af058a6fdcc370a621a0a/Machine-Learning-predictive-model-of-grapevine-yield-based-on-agroclimatic-patterns.pdf). Viticulture as a whole has been a field of study tackled by machine learning on many occasions. Whether it’s detecting diseases in a grapevine’s leaves or using deep learning and neural networks to classify patterns in their early growing stages, models have been trained to make predictions and be evaluated by ML metrics such as accuracy or precision rates[<sup>2</sup>](chrome-extension://efaidnbmnnnibpcajpcglclefindmkaj/https://www.researchgate.net/profile/Jerry-Gao/publication/348023331_Grape_Leaf_Disease_Detection_and_Classification_Using_Machine_Learning/links/6096c83a92851c490fc748d5/Grape-Leaf-Disease-Detection-and-Classification-Using-Machine-Learning.pdf). In turn, many of these models were created to make predictions on grape yields based on certain criteria such as weather conditions or pesticide use. However, one key problem is that these predictive models can be too complex and computationally expensive. Despite the growing demand, these models have failed to consider factors such as particular practices that can have a positive or negative impact on production rates or even grape varieties and the acres used to produce them. It’s also important to note that comparing current yield models to previous yield models can lead to several misinterpretations, meaning new ones must be trained on a daily basis. Too many confounding variables come into play such as limited varieties in a certain number of parcels at a certain time, grapevine locations, and the availability of workers[<sup>3</sup>](https://www.mdpi.com/2073-4395/12/10/2463). For instance, climate change has a severe impact on wine production, which may lead to unpredictable and inconsistent data collection throughout the seasons. The models are prone to large errors and can lead to misinformation regarding the best course of action for workers on the field. Even with the technology available today, it’s quite difficult to gather this type of data and accurately pinpoint financial gains/losses based on more or less production yields. Thus, answering our question through a business lens is key to creating, evaluating, and drawing conclusions from our predictive yield model. The higher the yield, the better the grape quality and quantity which results in more revenue for the company/vineyard.\n",
    "\n",
    "(Feedback Response): \n",
    "Regarding prior work - what kinds of predictive models were used to predict yield? What were the results? Did you draw inspiration from these models for your approach/How is your approach different? Address the above points. I would suggest finding a specific example of a predictive model for grape yield and highlighting relevant points from that work.\n",
    "\n",
    "One predictive model that was based on agroclimatic patterns used 4 machine learning methods (LASSO, ElasticNet, SpikesLab, and RandomForest) to predict grapevine yield. After performing feature selection and cross-validation, they were able to narrow down the number of variables that were the most significant in solving their problem statement. They outlined the specific function, training process, and importance of all 4 predictive methods in order to compare their calculated RMSE results based on selected variables. Using the model’s behavior and RMSE values for flowering, coloring, and harvest phenologies, they concluded how “meteorology is the key relation in measuring quantity of grapes” [<sup>1</sup>](chrome-extension://efaidnbmnnnibpcajpcglclefindmkaj/https://www.researchgate.net/profile/Manisha-Sirsat/publication/334387643_Machine_Learning_predictive_model_of_grapevine_yield_based_on_agroclimatic_patterns/links/5d3af058a6fdcc370a621a0a/Machine-Learning-predictive-model-of-grapevine-yield-based-on-agroclimatic-patterns.pdf). Viticulture as a whole has been a field of study tackled by machine learning on many occasions. Whether it’s detecting diseases in a grapevine’s leaves or using deep learning and neural networks to classify patterns in their early growing stages, models have been trained to make predictions and be evaluated by ML metrics such as accuracy or precision rates[<sup>2</sup>](chrome-extension://efaidnbmnnnibpcajpcglclefindmkaj/https://www.researchgate.net/profile/Jerry-Gao/publication/348023331_Grape_Leaf_Disease_Detection_and_Classification_Using_Machine_Learning/links/6096c83a92851c490fc748d5/Grape-Leaf-Disease-Detection-and-Classification-Using-Machine-Learning.pdf). Drawing inspiration from this, we will also use a few predictive methods such as Gradient Boosting, SVM, and RandomForest. Instead of calculating RMSE however, we will develop confusion matrices and use F1 scoring to determine the accuracy of our models. We will classify the grape yields to a respective category (high, mid, or low) using a range of values based on certain variables such as boxes per acre, whether the grapevine was grafted or not, among others. Another key difference in our approaches is our use of data. Instead of using a combination of climatic variables, plotting, and phenological stage datasets, we will use a main plotting dataset that will narrow our focus and lead us to tread away from the discussion of weather patterns for analysis.\n",
    "\n",
    "You also mention that prior work is limited by being too computationally expensive or having too many confounding variables - what about your work? How do you deal with these limitations?\n",
    "\n",
    "Prior work on the subject tends to be too computationally expensive and have many confounding variables because their data collection and overall research project is quite large in scale. For our project, we plan to narrow our scope down in terms of the variables we’re analyzing (such as yield and boxes per acre). The 23 unique ranches are relatively close to each other in proximity, meaning drastic weather differences are not going to be an issue. Our model will not be as computationally expensive as the prior work models because our machine learning methods are much simpler and straight-forward. Regardless, a certain accuracy percentage will still be computed and our model will end up being trained and analyzed. Also, while some of these models can be prone to large errors, our model can avoid this because we plan on classifying yield using ranges of values rather than trying to compute an actual yield value. This allows our classification model to be less prone to error because the variability between a right and wrong answer is a lot slimmer, which should lead to a relatively high accuracy rate.\n",
    "   \n"
   ]
  },
  {
   "attachments": {},
   "cell_type": "markdown",
   "metadata": {},
   "source": [
    "# Problem Statement\n",
    "\n",
    "Grape yield is an important factor for grape growers as it directly impacts their revenue and profitability. Currently, grape growers rely on their experience and knowledge of vineyard management practices to estimate the yield level, which can be subjective and prone to errors. Therefore, an accurate yield classification model can greatly assist grape growers in making informed decisions about their vineyard management practices. To ensure the problem is quantifiable, we will define the yield levels based on a specific range of boxes per acre. We will also use a set of objective features to describe the grape varieties, such as temperature, vine age, grape color, and ranch location.\n",
    "\n",
    "(Feedback Response):\n",
    "What is the research question driving your project? What do you plan to do? You address the need but don't clearly state how. Reword in this manner - We plan to use a RF model to .......\n",
    "\n",
    "We plan to use a gradient boosting model to predict whether a batch of grapevines would produce a high, mid, or low yield given variables such as its variety, color, whether it was grafted, etc. A batch is categorized as high yielding if its yield is greater than 175 boxes per acres, mid yielding if its yield is lower than 175 boxes per acre and greater than 55 boxes per acres, and low yielding if otherwise.\n"
   ]
  },
  {
   "attachments": {},
   "cell_type": "markdown",
   "metadata": {},
   "source": [
    "# Data\n",
    "\n",
    "The data for this project is sourced from a single vineyard and consists of three separate datasets that will be merged and analyzed. The production dataset contains 4129 weekly observations of grape collection, including the number of boxes filled, grape variety, and harvest date. The grafting dataset provides information on fields, including acreage, grafting, and other characteristics. The weather dataset includes average daily high and low temperatures for the week and precipitation amounts for the week. These were measurements were recorded near the vineyard location for the years of 2015 to 2022. \n",
    "The critical variables for this project are the box count and acreage which will be important for understanding the overall productivity of the vineyard. The production week will also be an important variable as it could give some insights into harvesting patterns. Furthermore, the average daily high and low temperatures for the week could also be important variables as they could have the greatest measurable affect on the productivity of the vineyard from the variables that we have. Due to the number and nature of the datasets, significant data wrangling will be required before performing the analysis and modeling. This will involve merging the datasets, cleaning and transforming the data, and handling missing or erroneous data. \n",
    "\n",
    "**BOLD TEXT**  = Critical variable \n",
    "\n",
    "\n",
    "\n",
    "Production.csv -  4129 rows by 12 columns | https://github.com/COGS118A/Group036-Wi23/blob/main/production.csv \n",
    "\n",
    "*Observations:*\n",
    "- **prod_wk - A data corresponding to the week  in which a particular vine was picked**\n",
    "\n",
    "- ranch_no - The ranch number where the vine is growing\n",
    "\n",
    "- ranch_sub - Where on the ranch the vine is located (NW - northwest, SW - southwest, etc) \n",
    "\n",
    "- var_cd - The code number corresponding to the variety of the vine. \n",
    "\n",
    "- **variety_desc - The variety description of the vine**  \n",
    "\n",
    "- **var_boxes - The number of boxes of grapes harvested for the week**\n",
    "\n",
    "- color - The color of the grape (Green, Red, Black)\n",
    "\n",
    "- prod_date_ct - The number of days in a week that a particular vine was harvested\n",
    "\n",
    "- prod_wk_no - The week number for the year\n",
    "\n",
    "- prod_yr - The production year\n",
    "\n",
    "- min_date - first day of harvesting a vine for the week\n",
    "\n",
    "- max_date - last day of harvesting a vine for the week\n",
    "\n",
    "\n",
    "\n",
    "Graft.csv - 161 rows × 7 columns | https://github.com/COGS118A/Group036-Wi23/blob/main/graft.csv \n",
    "\n",
    "*Observations:*\n",
    "- ranch_no - The ranch number where the vine is growing\n",
    "\n",
    "- ranch_sub - Where on the ranch the vine is located (NW - northwest, SW - southwest, etc) \n",
    "\n",
    "- var_cd - The code number corresponding to the variety of the vine. \n",
    "\n",
    "- **variety_desc - The variety description of the vine**\n",
    "\n",
    "- grafted - A boolean expression for whether the vine was planted or grafted (True = grafted, False = planted) \n",
    "\n",
    "- **acres - The number of acres that were planted**\n",
    "\n",
    "- Year_planted_gratfed - The year the the vine was planted or grafted. \n",
    "\n",
    "\n",
    "\n",
    "Temps.csv -  2909 rows × 4 columns | https://github.com/COGS118A/Group036-Wi23/blob/main/temps.csv \n",
    "\n",
    "*Observations:*\n",
    "\n",
    "- Date - Year/Month/Day \n",
    "\n",
    "- **Daily_High - The measured daily high temperature (Fahrenheit)**  \n",
    "\n",
    "- **Daily_Low - The measured daily low temperature (Farenheit)** \n",
    "\n",
    "- Precipitation - The measured precipitation for the day. \n",
    "\n",
    "<br>\n",
    "\n",
    "**Special handling, transformations, cleaning, etc** <br>\n",
    "Merged Dataframe: 4129 rows x 12 columns\n",
    "\n",
    "Coding Steps (Data Cleaning):\n",
    "https://github.com/COGS118A/Group036-Wi23/blob/main/Dataset.pdf \n",
    "\n",
    "*Written Data Cleaning Observations:* \n",
    "- Date - Dates correspond to the dates from prod_wk\n",
    "\n",
    "- Ranch_no - (One-hot encoded) The ranch where the vine is grown\t\n",
    "\n",
    "- variety_desc - (One-hot encoded) The variety of vine  \n",
    "\n",
    "- **var_boxes - The number of boxes of grapes harvested for the week** (left out of the model in some instances)\n",
    "\n",
    "- color - color of the grape\n",
    "\n",
    "- grafted\t- Boolean to whether vine was grafted (True = grafted, False = planted)\n",
    "\n",
    "- acres - the total number of acres of a vine at a particular ranch (left out of the model in some instances)\n",
    "\n",
    "- Year_planted_gratfed - The year the vine was planted or grafted.\t\n",
    "\n",
    "- Age - (year_planted_grafted - prod_yr)\t\n",
    "\n",
    "- **Daily_High - The measured daily high temperature (Fahrenheit)** \n",
    "\n",
    "- **Daily_Low - The measured daily low temperature (Fahrenheit)** \t\n",
    "\n",
    "- Precipitation - The measured precipitation for the day. \n"
   ]
  },
  {
   "attachments": {},
   "cell_type": "markdown",
   "metadata": {},
   "source": [
    "# Proposed Solution\n",
    "\n",
    "One potential approach to building a classification model for this problem is to use a gradient boosting algorithm. This approach has been shown to be effective in a variety of classification problems and is particularly well-suited to handling high-dimensional datasets with many features. We can use scikit-learn's gradient boosting classifier package along with techniques such as cross-validation and hyperparameter tuning to build and optimize a model. Furthermore, we will also consider using a benchmark model, such as a simple decision tree or logistic regression, to compare the performance of the gradient boosting model and validate its effectiveness.\n",
    "\n",
    "(Feedback Response):\n",
    "Good start - but include details about the kind of train/test split, cross-validation technique, hyperparam tuning you plan to use as you work on the project. First implement DT, and LogReg as baselines, evaluate based on metrics and then implement RF (as you mentioned).\n",
    "\n",
    "First, our data will use cross validation in order to optimize the data set that we have since it is smaller than the 10,000 that is preferred. By using this method, we can create more models and hopefully have accurate results. The number ratio of the split is still not determined but likely to be a number around 5 - 10 in order to be in a bit of a good zone to avoid low accuracy or low variance (and we can adjust this number too as a hyperparameter). Other hyperparameters are the learning rate, the pruning of our tree, number of branches etc…\n"
   ]
  },
  {
   "attachments": {},
   "cell_type": "markdown",
   "metadata": {},
   "source": [
    "# Evaluation Metrics\n",
    "\n",
    "To test the performance of the model, we will split the dataset into a training set and a test set. We will use the training set to train the model and the test set to evaluate its performance. We will use metrics such as accuracy, precision, recall, and F1 score after creating a confusion matrix to evaluate the model's performance. However, we will mainly focus on the F1 score of the model, since the cost of false positives and false negatives are approximately equal.\n",
    "\n",
    "(Feedback Response): OK. Clearly state False Positives and False Negatives in the context of your problem. Include mathematical formulae for each metric. (-0.5)\n",
    "\n",
    "The formula for calculating F1 score is 2 * precision * recall / (precision + recall). The formula for precision is true positives / (true positive + false positives), and the formula for recall is true positives / (true positives + false negatives). In the context of our project, an example of a false positive would be a plant with yield class of low, being predicted as a plant with yield class of high. An example of a false negative, would be a plant with yield class of high, being predicted as a plant with yield class of low.\n"
   ]
  },
  {
   "attachments": {},
   "cell_type": "markdown",
   "metadata": {},
   "source": [
    "# Preliminary results\n",
    "\n",
    "\n",
    "We have tested the performance of gradient boosting and support vector machine on our cleaned dataset. Since our target variable is calculated by dividing var_boxes by acres, we wanted to see the difference in our model performance when we leave both variables in the dataset, remove either var_boxes or acres, or remove both variables. The complete result is included in the jupyter notebooks linked below. In summary, the accuracy of gradient boosting model decreased as we removed more variables from the dataset. We achieved an accuracy of 0.96 when we left both variables in the dataset, and an accuracy of approximately 0.45 when we removed both variables from the dataset. The accuracy of the svm model showed a similar pattern. With the svm model, we achieved an accuracy of 0.93 when we left both variables in the dataset, and an accuracy of 0.4 when we removed both variables from the dataset. Though the decrease in accuracy is significant, we would continue to use the dataset with both variables removed since they would not be given if when we try to predict the yield of new vines.\n",
    "\n",
    "\n",
    "https://github.com/COGS118A/Group036-Wi23/blob/main/Gradient_Boosting.ipynb \n",
    "\n",
    "\n",
    "https://github.com/COGS118A/Group036-Wi23/blob/main/SVM.ipynb \n"
   ]
  },
  {
   "cell_type": "markdown",
   "metadata": {},
   "source": [
    "# Ethics & Privacy"
   ]
  },
  {
   "attachments": {},
   "cell_type": "markdown",
   "metadata": {},
   "source": [
    "The dataset contains crucial information regarding the statistics of different grape varieties in the vineyard, as well as their respective yield on each harvest. There could be potential privacy concerns if competitors intend to use these data for ulterior purposes. To avoid leaking any crucial information we will be changing the names of the grape varieties to keep the data of the vineyard as anonymous as possible.\n",
    "\n",
    "In cases where people rely on the predictions of the model to determine what grape varieties to grow. The outcome is likely to differ from the predictions considering that the model is built using a dataset from a particular vineyard, which may not have the same climate and soil characteristics as any other vineyard. Therefore, people who intend to completely rely on the model to make decisions on which grape varieties to plant in their vineyard may suffer an unwanted loss of profit.\n"
   ]
  },
  {
   "cell_type": "markdown",
   "metadata": {},
   "source": [
    "# Team Expectations "
   ]
  },
  {
   "attachments": {},
   "cell_type": "markdown",
   "metadata": {},
   "source": [
    "* Reach out to other group members if you run into any obstacles\n",
    "* Communicate on Discord when there are concerns regarding the project\n",
    "* Make sure to meet the deadlines\n",
    "* Be respectful and calm"
   ]
  },
  {
   "cell_type": "markdown",
   "metadata": {},
   "source": [
    "# Project Timeline Proposal"
   ]
  },
  {
   "attachments": {},
   "cell_type": "markdown",
   "metadata": {},
   "source": [
    "\n",
    "| Meeting Date  | Meeting Time| Completed Before Meeting  | Discuss at Meeting |\n",
    "|---|---|---|---|\n",
    "| 2/21  |  6 PM |  Be ready to call on Zoom  | Discuss all aspects regarding the project proposal; Assign group members to each part of the project | \n",
    "| 2/28  |  6 PM |  Import & Wrangle Data; EDA | Review/edit Wrangling and EDA; Discuss Analysis Plan | \n",
    "| 3/7  | 6 PM  | Finalize data wrangling & EDA; Begin Analysis  | Finalize Analysis Plan; Complete checkpoint   |\n",
    "| 3/14  | 6 PM  | Complete analysis; Draft results | Discuss/edit project; Complete project   |\n",
    "| 3/25  | Before 11:59 PM  | NA | Turn in Final Project |"
   ]
  },
  {
   "attachments": {},
   "cell_type": "markdown",
   "metadata": {},
   "source": [
    "# Footnotes\n",
    "\n",
    "<a name=\"sirsat\"></a>1.[^](https://www.researchgate.net/profile/Manisha-Sirsat/publication/334387643_Machine_Learning_predictive_model_of_grapevine_yield_based_on_agroclimatic_patterns/links/5d3af058a6fdcc370a621a0a/Machine-Learning-predictive-model-of-grapevine-yield-based-on-agroclimatic-patterns.pdf): Sirsat, M. S., Mendes-Moreira, J., Ferreira, C., & Cunha, M. (2019). Machine Learning predictive model of grapevine yield based on agroclimatic patterns. Engineering in Agriculture, Environment and Food, 12(4), 443-450.<br>\n",
    "<a name=\"huang\"></a>2.[^](chrome-extension://efaidnbmnnnibpcajpcglclefindmkaj/https://www.researchgate.net/profile/Jerry-Gao/publication/348023331_Grape_Leaf_Disease_Detection_and_Classification_Using_Machine_Learning/links/6096c83a92851c490fc748d5/Grape-Leaf-Disease-Detection-and-Classification-Using-Machine-Learning.pdf): Huang, Z., Qin, A., Lu, J., Menon, A., & Gao, J. (2020, November). Grape leaf disease detection and classification using machine learning. In 2020 International Conferences on Internet of Things (iThings) and IEEE Green Computing and Communications (GreenCom) and IEEE Cyber, Physical and Social Computing (CPSCom) and IEEE Smart Data (SmartData) and IEEE Congress on Cybermatics (Cybermatics) (pp. 870-877). IEEE.<br>\n",
    "<a name=\"mohimont\"></a>3.[^](https://www.mdpi.com/2073-4395/12/10/2463): Mohimont, L., Alin, F., Rondeau, M., Gaveau, N., & Steffenel, L. A. (2022). Computer Vision and Deep Learning for Precision Viticulture. Agronomy, 12(10), 2463."
   ]
  }
 ],
 "metadata": {
  "kernelspec": {
   "display_name": "Python 3",
   "language": "python",
   "name": "python3"
  },
  "language_info": {
   "codemirror_mode": {
    "name": "ipython",
    "version": 3
   },
   "file_extension": ".py",
   "mimetype": "text/x-python",
   "name": "python",
   "nbconvert_exporter": "python",
   "pygments_lexer": "ipython3",
   "version": "3.8.8"
  }
 },
 "nbformat": 4,
 "nbformat_minor": 2
}
