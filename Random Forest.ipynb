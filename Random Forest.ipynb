{
 "cells": [
  {
   "cell_type": "code",
   "execution_count": 14,
   "id": "e54554ef",
   "metadata": {},
   "outputs": [],
   "source": [
    "import pandas as pd\n",
    "from sklearn.ensemble import RandomForestClassifier\n",
    "from sklearn.model_selection import train_test_split, cross_val_score\n",
    "from sklearn.metrics import accuracy_score\n",
    "import numpy as np \n",
    "import matplotlib.pyplot as plt"
   ]
  },
  {
   "cell_type": "code",
   "execution_count": 15,
   "id": "d5a8b017",
   "metadata": {},
   "outputs": [
    {
     "data": {
      "text/plain": [
       "(3636, 66)"
      ]
     },
     "execution_count": 15,
     "metadata": {},
     "output_type": "execute_result"
    }
   ],
   "source": [
    "X = pd.read_csv('full_features.csv')\n",
    "y_b = pd.read_csv('binaryclass_labels.csv').to_numpy().ravel()\n",
    "y_m = pd.read_csv('multiclass_labels.csv').to_numpy().ravel()\n",
    "y_gb = pd.read_csv('binaryclass_labels_low.csv').to_numpy().ravel()\n",
    "y_num = pd.read_csv('yield_labels.csv')\n",
    "\n",
    "X = X.drop(['grafted'], axis=1)\n",
    "X.shape"
   ]
  },
  {
   "cell_type": "code",
   "execution_count": 16,
   "id": "dbe348bb",
   "metadata": {},
   "outputs": [
    {
     "name": "stderr",
     "output_type": "stream",
     "text": [
      "[Parallel(n_jobs=1)]: Using backend SequentialBackend with 1 concurrent workers.\n"
     ]
    },
    {
     "name": "stdout",
     "output_type": "stream",
     "text": [
      "[CV] END ................................ score: (test=0.832) total time=   0.3s\n"
     ]
    },
    {
     "name": "stderr",
     "output_type": "stream",
     "text": [
      "[Parallel(n_jobs=1)]: Done   1 out of   1 | elapsed:    0.3s remaining:    0.0s\n"
     ]
    },
    {
     "name": "stdout",
     "output_type": "stream",
     "text": [
      "[CV] END ................................ score: (test=0.838) total time=   0.3s\n"
     ]
    },
    {
     "name": "stderr",
     "output_type": "stream",
     "text": [
      "[Parallel(n_jobs=1)]: Done   2 out of   2 | elapsed:    0.8s remaining:    0.0s\n"
     ]
    },
    {
     "name": "stdout",
     "output_type": "stream",
     "text": [
      "[CV] END ................................ score: (test=0.849) total time=   0.3s\n",
      "[CV] END ................................ score: (test=0.819) total time=   0.3s\n",
      "[CV] END ................................ score: (test=0.753) total time=   0.3s\n",
      "[CV] END ................................ score: (test=0.624) total time=   0.3s\n",
      "[CV] END ................................ score: (test=0.694) total time=   0.3s\n",
      "[CV] END ................................ score: (test=0.815) total time=   0.3s\n",
      "[CV] END ................................ score: (test=0.774) total time=   0.3s\n",
      "[CV] END ................................ score: (test=0.763) total time=   0.3s\n",
      "Accuracy: 0.8667582417582418\n",
      "oob score: 0.8586657496561211\n",
      "cv score: 0.7761117670208579 (std: 0.06806193981842018)\n",
      "feature importance: Index(['year_planted_grafted', 'age', 'Daily_High', 'Daily _Low', 'day',\n",
      "       'month', 'year', 'color_RED', 'ranch_14', 'ranch_33', 'color_GREEN',\n",
      "       'ranch_19', 'ranch_20', 'AUTUMN KING', 'SCARLET ROYAL', 'ranch_32',\n",
      "       'ranch_17', 'ranch_29', 'ranch_36', 'ranch_30', 'SUGRAONE', 'ranch_4',\n",
      "       'ranch_16', 'RED GLOBE', 'color_BLACK', 'ARRA 29 - ARRA PASSION FIRE',\n",
      "       'ARRA 15 - SWEETIES', 'ranch_35', 'FLAME SEEDLESS', 'ranch_18',\n",
      "       'ranch_37', 'ARRA 28 - ARRA PASSION PUNCH', 'ARRA 30 - SUGAR DROP',\n",
      "       'AUTUMN ROYAL', 'ranch_2', 'ranch_15', 'ARRA 32 - ARRA MYSTIC DREAM',\n",
      "       'IVORY - SHEEGENE 21', 'EARLY SWEET', 'ranch_10', 'Precipitation ',\n",
      "       'ARRA 27 - ARRA MYSTIC STAR', 'EXPERIMENTAL 95B-59+6',\n",
      "       'THOMPSON SEEDLESS', 'ranch_1', 'ALLISON - SHEEGENE 20', 'ARRA 16',\n",
      "       'ranch_12', 'ranch_50', 'CRIMSON SEEDLESS', 'ranch_34', 'EXPERIMENTAL',\n",
      "       'ARRA11 - HONEY BLOSSOM', 'ARD 36 - CHERRY CRUSH', 'ARRA 34 - YUM-BO',\n",
      "       'EXP 24A-15+3', 'SWEET GLOBE', 'ranch_31', 'ARRA 33 - HONEY POP',\n",
      "       'EXP 7A-40+1', 'CANDY HEARTS', 'SWEET SCARLET', 'ranch_3',\n",
      "       'ARD 35 - FIRE CRUNCH', 'EXPERIMENTAL 80B-30+9', 'ARD 39 - SUNNY POP'],\n",
      "      dtype='object')\n"
     ]
    },
    {
     "name": "stderr",
     "output_type": "stream",
     "text": [
      "[Parallel(n_jobs=1)]: Done  10 out of  10 | elapsed:    4.3s finished\n"
     ]
    }
   ],
   "source": [
    "# train test split\n",
    "X_train, X_test, y_train, y_test = train_test_split(X, y_b, test_size=0.2, random_state=42)\n",
    "\n",
    "model = RandomForestClassifier(oob_score=True, class_weight='balanced')\n",
    "model.fit(X_train, y_train)\n",
    "\n",
    "y_pred = model.predict(X_test)\n",
    "\n",
    "acc = accuracy_score(y_test, y_pred)\n",
    "cv_score = cross_val_score(model, X, y_b, cv=10, verbose=3)\n",
    "\n",
    "print(\"Accuracy:\", acc)\n",
    "print('oob score:', model.oob_score_)\n",
    "print(f'cv score: {cv_score.mean()} (std: {cv_score.std()})')\n",
    "print('feature importance:', X.columns[np.flip(np.argsort(model.feature_importances_))])"
   ]
  },
  {
   "cell_type": "code",
   "execution_count": 17,
   "id": "307a6493",
   "metadata": {},
   "outputs": [
    {
     "name": "stderr",
     "output_type": "stream",
     "text": [
      "[Parallel(n_jobs=1)]: Using backend SequentialBackend with 1 concurrent workers.\n"
     ]
    },
    {
     "name": "stdout",
     "output_type": "stream",
     "text": [
      "[CV] END ................................ score: (test=0.571) total time=   0.4s\n"
     ]
    },
    {
     "name": "stderr",
     "output_type": "stream",
     "text": [
      "[Parallel(n_jobs=1)]: Done   1 out of   1 | elapsed:    0.4s remaining:    0.0s\n"
     ]
    },
    {
     "name": "stdout",
     "output_type": "stream",
     "text": [
      "[CV] END ................................ score: (test=0.665) total time=   0.4s\n"
     ]
    },
    {
     "name": "stderr",
     "output_type": "stream",
     "text": [
      "[Parallel(n_jobs=1)]: Done   2 out of   2 | elapsed:    0.9s remaining:    0.0s\n"
     ]
    },
    {
     "name": "stdout",
     "output_type": "stream",
     "text": [
      "[CV] END ................................ score: (test=0.692) total time=   0.4s\n",
      "[CV] END ................................ score: (test=0.563) total time=   0.4s\n",
      "[CV] END ................................ score: (test=0.527) total time=   0.4s\n",
      "[CV] END ................................ score: (test=0.632) total time=   0.4s\n",
      "[CV] END ................................ score: (test=0.689) total time=   0.4s\n",
      "[CV] END ................................ score: (test=0.587) total time=   0.4s\n",
      "[CV] END ................................ score: (test=0.612) total time=   0.4s\n",
      "[CV] END ................................ score: (test=0.617) total time=   0.4s\n",
      "Accuracy: 0.7472527472527473\n",
      "oob score: 0.7482806052269602\n",
      "cv score: 0.615523113250386 (std: 0.052183379391780874)\n",
      "feature importance: Index(['day', 'Daily _Low', 'Daily_High', 'age', 'year_planted_grafted',\n",
      "       'year', 'month', 'ranch_14', 'ranch_17', 'ranch_32', 'ranch_20',\n",
      "       'color_RED', 'SCARLET ROYAL', 'ranch_19', 'ranch_33', 'color_GREEN',\n",
      "       'AUTUMN KING', 'ranch_16', 'ranch_35', 'ranch_18', 'ranch_30',\n",
      "       'ranch_29', 'ranch_37', 'ARRA 29 - ARRA PASSION FIRE',\n",
      "       'ARRA 15 - SWEETIES', 'ARRA 28 - ARRA PASSION PUNCH', 'FLAME SEEDLESS',\n",
      "       'Precipitation ', 'color_BLACK', 'ranch_4', 'ranch_36', 'ranch_12',\n",
      "       'ALLISON - SHEEGENE 20', 'AUTUMN ROYAL', 'ranch_15', 'SUGRAONE',\n",
      "       'ARRA 27 - ARRA MYSTIC STAR', 'ARRA 32 - ARRA MYSTIC DREAM', 'ranch_2',\n",
      "       'SWEET SCARLET', 'ranch_10', 'RED GLOBE', 'EARLY SWEET', 'ARRA 16',\n",
      "       'EXPERIMENTAL', 'CRIMSON SEEDLESS', 'IVORY - SHEEGENE 21', 'ranch_3',\n",
      "       'ARRA 30 - SUGAR DROP', 'ARD 36 - CHERRY CRUSH', 'ranch_1', 'ranch_34',\n",
      "       'SWEET GLOBE', 'ranch_50', 'ARRA 34 - YUM-BO', 'EXPERIMENTAL 95B-59+6',\n",
      "       'EXPERIMENTAL 80B-30+9', 'THOMPSON SEEDLESS', 'EXP 24A-15+3',\n",
      "       'CANDY HEARTS', 'ARD 35 - FIRE CRUNCH', 'EXP 7A-40+1',\n",
      "       'ARRA 33 - HONEY POP', 'ranch_31', 'ARRA11 - HONEY BLOSSOM',\n",
      "       'ARD 39 - SUNNY POP'],\n",
      "      dtype='object')\n"
     ]
    },
    {
     "name": "stderr",
     "output_type": "stream",
     "text": [
      "[Parallel(n_jobs=1)]: Done  10 out of  10 | elapsed:    4.9s finished\n"
     ]
    }
   ],
   "source": [
    "# train test split\n",
    "X_train, X_test, y_train, y_test = train_test_split(X, y_gb, test_size=0.2, random_state=42)\n",
    "\n",
    "model = RandomForestClassifier(oob_score=True, class_weight='balanced')\n",
    "model.fit(X_train, y_train)\n",
    "\n",
    "y_pred = model.predict(X_test)\n",
    "\n",
    "acc = accuracy_score(y_test, y_pred)\n",
    "cv_score = cross_val_score(model, X, y_gb, cv=10, verbose=3)\n",
    "\n",
    "print(\"Accuracy:\", acc)\n",
    "print('oob score:', model.oob_score_)\n",
    "print(f'cv score: {cv_score.mean()} (std: {cv_score.std()})')\n",
    "print('feature importance:', X.columns[np.flip(np.argsort(model.feature_importances_))])"
   ]
  },
  {
   "cell_type": "code",
   "execution_count": 18,
   "id": "8cc25525",
   "metadata": {},
   "outputs": [
    {
     "name": "stderr",
     "output_type": "stream",
     "text": [
      "[Parallel(n_jobs=1)]: Using backend SequentialBackend with 1 concurrent workers.\n"
     ]
    },
    {
     "name": "stdout",
     "output_type": "stream",
     "text": [
      "[CV] END ................................ score: (test=0.451) total time=   0.4s\n"
     ]
    },
    {
     "name": "stderr",
     "output_type": "stream",
     "text": [
      "[Parallel(n_jobs=1)]: Done   1 out of   1 | elapsed:    0.4s remaining:    0.0s\n"
     ]
    },
    {
     "name": "stdout",
     "output_type": "stream",
     "text": [
      "[CV] END ................................ score: (test=0.569) total time=   0.4s\n"
     ]
    },
    {
     "name": "stderr",
     "output_type": "stream",
     "text": [
      "[Parallel(n_jobs=1)]: Done   2 out of   2 | elapsed:    1.0s remaining:    0.0s\n"
     ]
    },
    {
     "name": "stdout",
     "output_type": "stream",
     "text": [
      "[CV] END ................................ score: (test=0.593) total time=   0.4s\n",
      "[CV] END ................................ score: (test=0.574) total time=   0.4s\n",
      "[CV] END ................................ score: (test=0.497) total time=   0.4s\n",
      "[CV] END ................................ score: (test=0.418) total time=   0.4s\n",
      "[CV] END ................................ score: (test=0.562) total time=   0.4s\n",
      "[CV] END ................................ score: (test=0.479) total time=   0.4s\n",
      "[CV] END ................................ score: (test=0.512) total time=   0.4s\n",
      "[CV] END ................................ score: (test=0.501) total time=   0.4s\n",
      "Accuracy: 0.6414835164835165\n",
      "oob score: 0.6351444291609354\n",
      "cv score: 0.5156744770381134 (std: 0.05491543255668066)\n",
      "feature importance: Index(['day', 'Daily_High', 'age', 'Daily _Low', 'year_planted_grafted',\n",
      "       'year', 'month', 'ranch_14', 'color_RED', 'ranch_20', 'ranch_32',\n",
      "       'ranch_19', 'ranch_17', 'ranch_33', 'color_GREEN', 'AUTUMN KING',\n",
      "       'SCARLET ROYAL', 'ranch_30', 'ranch_29', 'ranch_16', 'ranch_4',\n",
      "       'ranch_36', 'ranch_18', 'ARRA 15 - SWEETIES', 'ranch_35',\n",
      "       'FLAME SEEDLESS', 'SUGRAONE', 'ranch_37', 'ARRA 29 - ARRA PASSION FIRE',\n",
      "       'color_BLACK', 'ARRA 28 - ARRA PASSION PUNCH', 'RED GLOBE',\n",
      "       'AUTUMN ROYAL', 'Precipitation ', 'ranch_2', 'ARRA 30 - SUGAR DROP',\n",
      "       'ALLISON - SHEEGENE 20', 'ARRA 32 - ARRA MYSTIC DREAM', 'ranch_15',\n",
      "       'ranch_12', 'EARLY SWEET', 'ARRA 27 - ARRA MYSTIC STAR', 'ranch_10',\n",
      "       'SWEET SCARLET', 'ranch_1', 'IVORY - SHEEGENE 21', 'ARRA 16',\n",
      "       'ranch_50', 'ARD 36 - CHERRY CRUSH', 'EXPERIMENTAL 95B-59+6',\n",
      "       'EXPERIMENTAL', 'CRIMSON SEEDLESS', 'THOMPSON SEEDLESS', 'SWEET GLOBE',\n",
      "       'ARRA 34 - YUM-BO', 'ranch_34', 'ranch_31', 'ranch_3',\n",
      "       'ARRA 33 - HONEY POP', 'ARRA11 - HONEY BLOSSOM', 'EXP 7A-40+1',\n",
      "       'CANDY HEARTS', 'EXP 24A-15+3', 'ARD 35 - FIRE CRUNCH',\n",
      "       'EXPERIMENTAL 80B-30+9', 'ARD 39 - SUNNY POP'],\n",
      "      dtype='object')\n"
     ]
    },
    {
     "name": "stderr",
     "output_type": "stream",
     "text": [
      "[Parallel(n_jobs=1)]: Done  10 out of  10 | elapsed:    5.2s finished\n"
     ]
    }
   ],
   "source": [
    "# train test split\n",
    "X_train, X_test, y_train, y_test = train_test_split(X, y_m, test_size=0.2, random_state=42)\n",
    "\n",
    "model = RandomForestClassifier(oob_score=True, class_weight='balanced')\n",
    "model.fit(X_train, y_train)\n",
    "\n",
    "y_pred = model.predict(X_test)\n",
    "\n",
    "acc = accuracy_score(y_test, y_pred)\n",
    "cv_score = cross_val_score(model, X, y_m, cv=10, verbose=3)\n",
    "\n",
    "print(\"Accuracy:\", acc)\n",
    "print('oob score:', model.oob_score_)\n",
    "print(f'cv score: {cv_score.mean()} (std: {cv_score.std()})')\n",
    "print('feature importance:', X.columns[np.flip(np.argsort(model.feature_importances_))])"
   ]
  }
 ],
 "metadata": {
  "kernelspec": {
   "display_name": "Python 3 (ipykernel)",
   "language": "python",
   "name": "python3"
  },
  "language_info": {
   "codemirror_mode": {
    "name": "ipython",
    "version": 3
   },
   "file_extension": ".py",
   "mimetype": "text/x-python",
   "name": "python",
   "nbconvert_exporter": "python",
   "pygments_lexer": "ipython3",
   "version": "3.10.8"
  }
 },
 "nbformat": 4,
 "nbformat_minor": 5
}
