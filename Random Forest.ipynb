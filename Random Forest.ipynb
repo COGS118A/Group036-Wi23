{
 "cells": [
  {
   "cell_type": "code",
   "execution_count": 24,
   "id": "e54554ef",
   "metadata": {},
   "outputs": [],
   "source": [
    "import pandas as pd\n",
    "from sklearn.ensemble import RandomForestClassifier\n",
    "from sklearn.model_selection import train_test_split, GridSearchCV\n",
    "from sklearn.metrics import accuracy_score\n",
    "import numpy as np \n",
    "import matplotlib.pyplot as plt"
   ]
  },
  {
   "cell_type": "code",
   "execution_count": 44,
   "id": "d5a8b017",
   "metadata": {},
   "outputs": [
    {
     "data": {
      "text/plain": [
       "Index(['grafted', 'year_planted_grafted', 'ALLISON - SHEEGENE 20',\n",
       "       'ARD 35 - FIRE CRUNCH', 'ARD 36 - CHERRY CRUSH', 'ARD 39 - SUNNY POP',\n",
       "       'ARRA 15 - SWEETIES', 'ARRA 16', 'ARRA 27 - ARRA MYSTIC STAR',\n",
       "       'ARRA 28 - ARRA PASSION PUNCH', 'ARRA 29 - ARRA PASSION FIRE',\n",
       "       'ARRA 30 - SUGAR DROP', 'ARRA 32 - ARRA MYSTIC DREAM',\n",
       "       'ARRA 33 - HONEY POP', 'ARRA 34 - YUM-BO', 'ARRA11 - HONEY BLOSSOM',\n",
       "       'AUTUMN KING', 'AUTUMN ROYAL', 'CANDY HEARTS', 'CRIMSON SEEDLESS',\n",
       "       'EARLY SWEET', 'EXP 24A-15+3', 'EXP 7A-40+1', 'EXPERIMENTAL',\n",
       "       'EXPERIMENTAL 80B-30+9', 'EXPERIMENTAL 95B-59+6', 'FLAME SEEDLESS',\n",
       "       'IVORY - SHEEGENE 21', 'RED GLOBE', 'SCARLET ROYAL', 'SUGRAONE',\n",
       "       'SWEET GLOBE', 'SWEET SCARLET', 'THOMPSON SEEDLESS', 'age', 'year',\n",
       "       'month', 'day', 'color_BLACK', 'color_GREEN', 'color_RED', 'ranch_1',\n",
       "       'ranch_2', 'ranch_3', 'ranch_4', 'ranch_10', 'ranch_12', 'ranch_14',\n",
       "       'ranch_15', 'ranch_16', 'ranch_17', 'ranch_18', 'ranch_19', 'ranch_20',\n",
       "       'ranch_29', 'ranch_30', 'ranch_31', 'ranch_32', 'ranch_33', 'ranch_34',\n",
       "       'ranch_35', 'ranch_36', 'ranch_37', 'ranch_50', 'Daily_High',\n",
       "       'Daily_Low', 'Precipitation'],\n",
       "      dtype='object')"
      ]
     },
     "execution_count": 44,
     "metadata": {},
     "output_type": "execute_result"
    }
   ],
   "source": [
    "X = pd.read_csv('full_features.csv')\n",
    "y_b = pd.read_csv('binaryclass_labels.csv')\n",
    "y_m = pd.read_csv('multiclass_labels.csv')\n",
    "\n",
    "X.columns"
   ]
  },
  {
   "cell_type": "code",
   "execution_count": 46,
   "id": "dbe348bb",
   "metadata": {},
   "outputs": [
    {
     "name": "stderr",
     "output_type": "stream",
     "text": [
      "C:\\Users\\hulk5\\AppData\\Local\\Temp\\ipykernel_6708\\2470458210.py:7: DataConversionWarning: A column-vector y was passed when a 1d array was expected. Please change the shape of y to (n_samples,), for example using ravel().\n",
      "  model.fit(X_train, y_train)\n"
     ]
    },
    {
     "name": "stdout",
     "output_type": "stream",
     "text": [
      "Accuracy: 0.8243559718969555\n",
      "oob score: 0.8063287430413126\n",
      "feature importance: Index(['age', 'Daily_High', 'Daily_Low', 'day', 'year_planted_grafted',\n",
      "       'month', 'year', 'ranch_20', 'grafted', 'ranch_33', 'ranch_17',\n",
      "       'ranch_14', 'color_RED', 'color_GREEN', 'AUTUMN KING', 'ranch_32',\n",
      "       'ranch_19', 'ranch_29', 'ranch_30', 'ranch_18', 'SCARLET ROYAL',\n",
      "       'ARRA 29 - ARRA PASSION FIRE', 'SWEET SCARLET', 'ranch_16', 'ranch_37',\n",
      "       'color_BLACK', 'ARRA 15 - SWEETIES', 'ranch_35', 'FLAME SEEDLESS',\n",
      "       'ARRA 28 - ARRA PASSION PUNCH', 'ARRA 30 - SUGAR DROP', 'ranch_36',\n",
      "       'ranch_4', 'AUTUMN ROYAL', 'ALLISON - SHEEGENE 20',\n",
      "       'ARRA 32 - ARRA MYSTIC DREAM', 'Precipitation', 'SUGRAONE',\n",
      "       'ARRA 27 - ARRA MYSTIC STAR', 'IVORY - SHEEGENE 21', 'ranch_15',\n",
      "       'EARLY SWEET', 'ranch_1', 'ranch_10', 'RED GLOBE', 'ranch_34',\n",
      "       'ranch_12', 'EXPERIMENTAL', 'ARRA 16', 'ranch_2', 'CRIMSON SEEDLESS',\n",
      "       'ranch_31', 'ranch_50', 'EXP 24A-15+3', 'ARD 36 - CHERRY CRUSH',\n",
      "       'EXPERIMENTAL 95B-59+6', 'ranch_3', 'SWEET GLOBE', 'CANDY HEARTS',\n",
      "       'THOMPSON SEEDLESS', 'ARRA11 - HONEY BLOSSOM', 'ARRA 34 - YUM-BO',\n",
      "       'ARRA 33 - HONEY POP', 'EXP 7A-40+1', 'ARD 35 - FIRE CRUNCH',\n",
      "       'EXPERIMENTAL 80B-30+9', 'ARD 39 - SUNNY POP'],\n",
      "      dtype='object')\n"
     ]
    }
   ],
   "source": [
    "#X = X.drop(['Daily_High', 'Daily_Low'], axis=1)\n",
    "\n",
    "# train test split\n",
    "X_train, X_test, y_train, y_test = train_test_split(X, y_b, test_size=0.2, random_state=42)\n",
    "\n",
    "model = RandomForestClassifier(oob_score=True, class_weight='balanced')\n",
    "model.fit(X_train, y_train)\n",
    "\n",
    "y_pred = model.predict(X_test)\n",
    "\n",
    "acc = accuracy_score(y_test, y_pred)\n",
    "print(\"Accuracy:\", acc)\n",
    "print('oob score:', model.oob_score_)\n",
    "print('feature importance:', X.columns[np.flip(np.argsort(model.feature_importances_))])\n"
   ]
  },
  {
   "cell_type": "code",
   "execution_count": 45,
   "id": "8cc25525",
   "metadata": {},
   "outputs": [
    {
     "name": "stderr",
     "output_type": "stream",
     "text": [
      "C:\\Users\\hulk5\\AppData\\Local\\Temp\\ipykernel_6708\\2295155346.py:5: DataConversionWarning: A column-vector y was passed when a 1d array was expected. Please change the shape of y to (n_samples,), for example using ravel().\n",
      "  model.fit(X_train, y_train)\n"
     ]
    },
    {
     "name": "stdout",
     "output_type": "stream",
     "text": [
      "Accuracy: 0.617096018735363\n",
      "oob score: 0.5836507471432757\n",
      "feature importance: Index(['day', 'Daily_High', 'Daily_Low', 'age', 'year_planted_grafted', 'year',\n",
      "       'month', 'grafted', 'ranch_20', 'ranch_17', 'ranch_14', 'ranch_33',\n",
      "       'ranch_32', 'color_GREEN', 'color_RED', 'ranch_19', 'SCARLET ROYAL',\n",
      "       'ranch_30', 'AUTUMN KING', 'ranch_29', 'ranch_18',\n",
      "       'ARRA 29 - ARRA PASSION FIRE', 'ranch_16', 'ranch_37', 'color_BLACK',\n",
      "       'ranch_35', 'ARRA 28 - ARRA PASSION PUNCH', 'ARRA 15 - SWEETIES',\n",
      "       'Precipitation', 'ranch_36', 'SWEET SCARLET', 'FLAME SEEDLESS',\n",
      "       'AUTUMN ROYAL', 'ranch_4', 'ALLISON - SHEEGENE 20',\n",
      "       'ARRA 30 - SUGAR DROP', 'SUGRAONE', 'ARRA 27 - ARRA MYSTIC STAR',\n",
      "       'ranch_15', 'RED GLOBE', 'EARLY SWEET', 'ARRA 32 - ARRA MYSTIC DREAM',\n",
      "       'IVORY - SHEEGENE 21', 'ranch_10', 'ranch_12', 'ranch_34', 'ranch_2',\n",
      "       'ARRA 16', 'ranch_1', 'EXPERIMENTAL', 'ranch_31', 'ranch_50',\n",
      "       'CRIMSON SEEDLESS', 'ranch_3', 'THOMPSON SEEDLESS',\n",
      "       'ARD 36 - CHERRY CRUSH', 'SWEET GLOBE', 'ARRA 34 - YUM-BO',\n",
      "       'EXP 24A-15+3', 'ARRA11 - HONEY BLOSSOM', 'ARRA 33 - HONEY POP',\n",
      "       'EXPERIMENTAL 95B-59+6', 'CANDY HEARTS', 'EXPERIMENTAL 80B-30+9',\n",
      "       'ARD 35 - FIRE CRUNCH', 'EXP 7A-40+1', 'ARD 39 - SUNNY POP'],\n",
      "      dtype='object')\n"
     ]
    }
   ],
   "source": [
    "# train test split\n",
    "X_train, X_test, y_train, y_test = train_test_split(X, y_m, test_size=0.2, random_state=42)\n",
    "\n",
    "model = RandomForestClassifier(oob_score=True, class_weight='balanced')\n",
    "model.fit(X_train, y_train)\n",
    "\n",
    "y_pred = model.predict(X_test)\n",
    "\n",
    "acc = accuracy_score(y_test, y_pred)\n",
    "print(\"Accuracy:\", acc)\n",
    "print('oob score:', model.oob_score_)\n",
    "print('feature importance:', X.columns[np.flip(np.argsort(model.feature_importances_))])"
   ]
  },
  {
   "cell_type": "code",
   "execution_count": null,
   "id": "8532f7c7",
   "metadata": {},
   "outputs": [],
   "source": [
    "params = {''}\n",
    "\n",
    "gscv = GridSearchCV(pipe, param_grid, scoring='f1_micro', cv=7, verbose=3)\n",
    "\n",
    "gscv.fit(X, y)"
   ]
  }
 ],
 "metadata": {
  "kernelspec": {
   "display_name": "Python 3 (ipykernel)",
   "language": "python",
   "name": "python3"
  },
  "language_info": {
   "codemirror_mode": {
    "name": "ipython",
    "version": 3
   },
   "file_extension": ".py",
   "mimetype": "text/x-python",
   "name": "python",
   "nbconvert_exporter": "python",
   "pygments_lexer": "ipython3",
   "version": "3.10.8"
  }
 },
 "nbformat": 4,
 "nbformat_minor": 5
}
