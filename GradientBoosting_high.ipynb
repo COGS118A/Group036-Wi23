{
 "cells": [
  {
   "cell_type": "code",
   "execution_count": 1,
   "id": "b11f2bee",
   "metadata": {},
   "outputs": [],
   "source": [
    "#Import datasets\n",
    "import pandas as pd \n",
    "from sklearn.ensemble import GradientBoostingClassifier\n",
    "from sklearn.model_selection import train_test_split, cross_val_score\n",
    "from sklearn.metrics import accuracy_score\n",
    "import numpy as np \n",
    "import matplotlib.pyplot as plt\n",
    "from sklearn.metrics  import classification_report, plot_confusion_matrix\n",
    "from sklearn.pipeline import Pipeline\n",
    "from sklearn.impute import SimpleImputer\n",
    "from sklearn.preprocessing import StandardScaler\n",
    "from sklearn.feature_selection import SelectKBest, f_classif\n",
    "from joblib import dump, load"
   ]
  },
  {
   "cell_type": "code",
   "execution_count": 2,
   "id": "470b3115",
   "metadata": {},
   "outputs": [
    {
     "name": "stdout",
     "output_type": "stream",
     "text": [
      "\n",
      "Classification Report:\n",
      "               precision    recall  f1-score   support\n",
      "\n",
      "        high       0.68      0.39      0.49       132\n",
      "         low       0.88      0.96      0.92       596\n",
      "\n",
      "    accuracy                           0.86       728\n",
      "   macro avg       0.78      0.67      0.70       728\n",
      "weighted avg       0.84      0.86      0.84       728\n",
      "\n"
     ]
    }
   ],
   "source": [
    "X = pd.read_excel('features.xlsx')\n",
    "y = pd.read_excel('binaryclass_labels.xlsx').to_numpy().ravel()\n",
    "\n",
    "\n",
    "# Define the pipeline\n",
    "pipeline = Pipeline([\n",
    "    ('replace_inf', SimpleImputer(strategy='median', missing_values=np.inf)),\n",
    "    ('replace_nan', SimpleImputer(strategy='median', missing_values=np.nan)),\n",
    "    ('scale_data', StandardScaler()),\n",
    "    ('clf', GradientBoostingClassifier(n_estimators=50, learning_rate=0.1, max_depth=5, random_state=42))\n",
    "    ])\n",
    "\n",
    "# Split the data into training and testing sets\n",
    "X_train, X_test, y_train, y_test = train_test_split(X, y, test_size=0.2, random_state=42)\n",
    "\n",
    "# Train the classifier using the pipeline\n",
    "pipeline.fit(X_train, y_train)\n",
    "\n",
    "# Predict on the test data\n",
    "y_pred = pipeline.predict(X_test)\n",
    "\n",
    "# Evaluate model performance\n",
    "print(\"\\nClassification Report:\\n\", classification_report(y_test, y_pred))"
   ]
  },
  {
   "cell_type": "code",
   "execution_count": 3,
   "id": "7930584d",
   "metadata": {},
   "outputs": [
    {
     "data": {
      "image/png": "[encoded data removed]",
      "text/plain": [
       "<Figure size 432x288 with 2 Axes>"
      ]
     },
     "metadata": {
      "needs_background": "light"
     },
     "output_type": "display_data"
    },
    {
     "name": "stdout",
     "output_type": "stream",
     "text": [
      "Accuracy: 0.8557692307692307\n"
     ]
    }
   ],
   "source": [
    "plot_confusion_matrix(pipeline, X_test, y_test, cmap=plt.cm.Blues)\n",
    "plt.show()\n",
    "\n",
    "acc = accuracy_score(y_test, y_pred)\n",
    "print(\"Accuracy:\", acc)"
   ]
  },
  {
   "cell_type": "code",
   "execution_count": 4,
   "id": "b6ed5324",
   "metadata": {},
   "outputs": [
    {
     "name": "stdout",
     "output_type": "stream",
     "text": [
      "Accuracy: 0.77 (+/- 0.12)\n"
     ]
    }
   ],
   "source": [
    "# Evaluate model using 5-fold cross-validation\n",
    "scores = cross_val_score(pipeline, X, y, cv=5)\n",
    "\n",
    "# Print average performance across all folds\n",
    "print(\"Accuracy: %0.2f (+/- %0.2f)\" % (scores.mean(), scores.std() * 2))"
   ]
  },
  {
   "cell_type": "code",
   "execution_count": 6,
   "id": "bdbbdc89",
   "metadata": {},
   "outputs": [
    {
     "data": {
      "text/plain": [
       "['GB_high_model.pkl']"
      ]
     },
     "execution_count": 6,
     "metadata": {},
     "output_type": "execute_result"
    }
   ],
   "source": [
    "dump(pipeline, 'GB_high_model.pkl')"
   ]
  }
 ],
 "metadata": {
  "kernelspec": {
   "display_name": "Python 3 (ipykernel)",
   "language": "python",
   "name": "python3"
  },
  "language_info": {
   "codemirror_mode": {
    "name": "ipython",
    "version": 3
   },
   "file_extension": ".py",
   "mimetype": "text/x-python",
   "name": "python",
   "nbconvert_exporter": "python",
   "pygments_lexer": "ipython3",
   "version": "3.9.5"
  }
 },
 "nbformat": 4,
 "nbformat_minor": 5
}
